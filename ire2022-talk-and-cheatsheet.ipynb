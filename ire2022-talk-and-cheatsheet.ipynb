{
 "cells": [
  {
   "attachments": {
    "aa673ed3-3f63-4569-b230-9cce6f38fb09.png": {
     "image/png": "[encoded data removed]"
    }
   },
   "cell_type": "markdown",
   "id": "1d209f57-c8a1-4df9-9690-18e3d5008b4f",
   "metadata": {
    "tags": []
   },
   "source": [
    "# Sharing and analyzing large scale data in the cloud\n",
    "\n",
    "[![Open In Studio Lab](https://studiolab.sagemaker.aws/studiolab.svg)](https://studiolab.sagemaker.aws/import/github/pschmied/ire2022/blob/main/ire2022-talk-and-cheatsheet.ipynb)\n",
    "\n",
    "(https://github.com/pschmied/ire2022)\n",
    "\n",
    "![image.png](attachment:aa673ed3-3f63-4569-b230-9cce6f38fb09.png)"
   ]
  },
  {
   "cell_type": "markdown",
   "id": "ed3b001c-93e7-4c03-bbff-11704f8921fd",
   "metadata": {
    "tags": []
   },
   "source": [
    "# Contacts / links\n",
    " - Peter Schmiedeskamp - Statistical & Regulatory Lead (pws AT amazon), AWS Open Data\n",
    " - AWS Open Data (opendata AT amazon / https://opendata.aws)\n",
    " - Registry of Open Data (https://registry.opendata.aws)"
   ]
  },
  {
   "cell_type": "markdown",
   "id": "6b140eb0-97a5-4199-9e6e-cfb988d99ad4",
   "metadata": {},
   "source": [
    "# Agenda\n",
    "\n",
    " - Brief discussion of a handful of AWS services that I think warrant attention (general, immediately useful, #frugal)\n",
    " - Deeper dive into cloud data storage and how to use it / look at a few real datasets\n",
    " - Interrogating large datasets with SQL\n",
    " - Discuss assembling / optimizing data for analysis\n",
    " - AWS Open Data and how we may be able to help you\n",
    " - Q&A "
   ]
  },
  {
   "cell_type": "markdown",
   "id": "43647479-5f6b-4451-bf7e-d34829ba833e",
   "metadata": {},
   "source": [
    "# Recommended services to get started\n",
    "\n",
    " - [Amazon SageMaker Studio Lab](https://studiolab.sagemaker.aws/) :: Free notebook computing environment, CPU / GPU instances, no credit card signup. (this notebook!)\n",
    " - [Amazon Simple Storage Service (S3)](https://aws.amazon.com/s3/) :: Bedrock storage, foundation for storing, sharing, and analyzing data using variety of AWS and other (e.g. Open Source) tools.\n",
    " - [Amazon Athena](https://aws.amazon.com/athena/) :: High performance serverless SQL query engine works on objects stored in S3.\n",
    " - [AWS CloudShell](https://aws.amazon.com/cloudshell/) :: Free small instance Linux shell, preloaded with AWS tools. \n",
    " - [Amazon EC2](https://aws.amazon.com/ec2/) :: Whatever kind of computer(s) you need, big or small. "
   ]
  },
  {
   "cell_type": "markdown",
   "id": "92514ab2-2809-4ccf-aec3-29a99cefa52f",
   "metadata": {},
   "source": [
    "# S3 - accessing data\n",
    "\n",
    "What is S3? Practically infinite, reliable, performant object storage. Enables AWS Open Data. Used by or used with nearly every AWS service—especially services aligned with the notion of a \"data lake.\"\n",
    "\n",
    "Data objects can contain any kind of data (images, music, CSVs, formats yet unknown to science). Max size of single object is 5TB\n",
    "\n",
    "Let's look at some data from the [Registry of Open Data on AWS (RODA)](https://registry.opendata.aws). This example is from [Global Legal Identifier Foundation](https://registry.opendata.aws/lei/). Note we can explore the dataset in a variety of ways:\n",
    "\n",
    "- AWS Console (requires being signed in to AWS, and some URL surgery if you don't own the bucket)\n",
    "- [AWS Command Line Client]()\n",
    "- 3rd-party graphical clients (e.g. [Cyberduck](https://cyberduck.io/))\n",
    "- FUSE filesystem (e.g. [goofys](https://github.com/kahing/goofys))\n",
    "- Programmatically via official SDKs (e.g. [Boto3](https://aws.amazon.com/sdk-for-python/) for Python), or 3rd-party SDKs (e.g. [PAWS](https://paws-r.github.io/) for R).\n",
    "\n",
    "In this section I use the AWS CLI, and recommend it as a good balance of learning curve and power."
   ]
  },
  {
   "cell_type": "code",
   "execution_count": 1,
   "id": "96ebcf35-063f-4053-808b-3511b7f3957d",
   "metadata": {
    "tags": []
   },
   "outputs": [
    {
     "name": "stdout",
     "output_type": "stream",
     "text": [
      "                           PRE data/\n",
      "2021-08-28 08:18:41      32357 index.html\n"
     ]
    }
   ],
   "source": [
    "!aws --no-sign-request s3 ls s3://gleif/"
   ]
  },
  {
   "cell_type": "code",
   "execution_count": 2,
   "id": "f7d0380e-9346-48c3-be29-3b20e59b58e7",
   "metadata": {},
   "outputs": [
    {
     "name": "stdout",
     "output_type": "stream",
     "text": [
      "2022-06-23 01:10:51  244.5 MiB data/csv/lei/date=2022-06-23/time=00:00/20220623-0000-gleif-goldencopy-lei.csv.gz\n",
      "2022-06-23 09:10:55  244.5 MiB data/csv/lei/date=2022-06-23/time=08:00/20220623-0800-gleif-goldencopy-lei.csv.gz\n",
      "2022-06-23 17:10:49  244.6 MiB data/csv/lei/date=2022-06-23/time=16:00/20220623-1600-gleif-goldencopy-lei.csv.gz\n"
     ]
    }
   ],
   "source": [
    "!aws --no-sign-request s3 ls s3://gleif/data/csv/lei/date=2022-06-23/ --recursive --human-readable"
   ]
  },
  {
   "cell_type": "code",
   "execution_count": 3,
   "id": "f5a33cb2-4f41-4f05-a144-11b3cc32a86b",
   "metadata": {},
   "outputs": [
    {
     "name": "stdout",
     "output_type": "stream",
     "text": [
      "2022-06-20 01:10:56  244.0 MiB data/csv/lei/date=2022-06-20/time=00:00/20220620-0000-gleif-goldencopy-lei.csv.gz\n",
      "2022-06-20 09:01:10  244.0 MiB data/csv/lei/date=2022-06-20/time=08:00/20220620-0800-gleif-goldencopy-lei.csv.gz\n",
      "2022-06-20 17:31:02  244.1 MiB data/csv/lei/date=2022-06-20/time=16:00/20220620-1600-gleif-goldencopy-lei.csv.gz\n",
      "2022-06-21 01:11:15  244.1 MiB data/csv/lei/date=2022-06-21/time=00:00/20220621-0000-gleif-goldencopy-lei.csv.gz\n",
      "2022-06-21 09:11:02  244.2 MiB data/csv/lei/date=2022-06-21/time=08:00/20220621-0800-gleif-goldencopy-lei.csv.gz\n",
      "2022-06-21 17:10:53  244.2 MiB data/csv/lei/date=2022-06-21/time=16:00/20220621-1600-gleif-goldencopy-lei.csv.gz\n",
      "2022-06-22 01:10:51  244.3 MiB data/csv/lei/date=2022-06-22/time=00:00/20220622-0000-gleif-goldencopy-lei.csv.gz\n",
      "2022-06-22 09:11:13  244.3 MiB data/csv/lei/date=2022-06-22/time=08:00/20220622-0800-gleif-goldencopy-lei.csv.gz\n",
      "2022-06-22 17:11:12  244.4 MiB data/csv/lei/date=2022-06-22/time=16:00/20220622-1600-gleif-goldencopy-lei.csv.gz\n",
      "2022-06-23 01:10:51  244.5 MiB data/csv/lei/date=2022-06-23/time=00:00/20220623-0000-gleif-goldencopy-lei.csv.gz\n",
      "2022-06-23 09:10:55  244.5 MiB data/csv/lei/date=2022-06-23/time=08:00/20220623-0800-gleif-goldencopy-lei.csv.gz\n",
      "2022-06-23 17:10:49  244.6 MiB data/csv/lei/date=2022-06-23/time=16:00/20220623-1600-gleif-goldencopy-lei.csv.gz\n",
      "2022-06-24 01:10:55  244.6 MiB data/csv/lei/date=2022-06-24/time=00:00/20220624-0000-gleif-goldencopy-lei.csv.gz\n",
      "2022-06-24 09:11:02  244.7 MiB data/csv/lei/date=2022-06-24/time=08:00/20220624-0800-gleif-goldencopy-lei.csv.gz\n",
      "2022-06-24 17:01:00  244.7 MiB data/csv/lei/date=2022-06-24/time=16:00/20220624-1600-gleif-goldencopy-lei.csv.gz\n"
     ]
    }
   ],
   "source": [
    "# Note the \"/\" is a lie - there are no directories in S3, only prefixes\n",
    "!aws --no-sign-request s3 ls s3://gleif/data/csv/lei/date=2022-06-2 --recursive --human-readable"
   ]
  },
  {
   "cell_type": "code",
   "execution_count": 4,
   "id": "fe473702-5125-4e2d-80a6-a1a47a2eb33f",
   "metadata": {},
   "outputs": [
    {
     "name": "stdout",
     "output_type": "stream",
     "text": [
      "download: s3://gleif/data/csv/lei/date=2022-06-23/time=16:00/20220623-1600-gleif-goldencopy-lei.csv.gz to ../scratch/20220623-1600-gleif-goldencopy-lei.csv.gz\n"
     ]
    }
   ],
   "source": [
    "# Downloading via the command line is easy\n",
    "!aws --no-sign-request s3 cp s3://gleif/data/csv/lei/date=2022-06-23/time=16:00/20220623-1600-gleif-goldencopy-lei.csv.gz \\\n",
    "    ~/scratch/"
   ]
  },
  {
   "cell_type": "code",
   "execution_count": 5,
   "id": "4f91d8ec-ce5d-47fa-8ddc-6793bcff2d04",
   "metadata": {},
   "outputs": [
    {
     "name": "stdout",
     "output_type": "stream",
     "text": [
      "total 245M\n",
      "drwxr-xr-x  2 studio-lab-user users     55 Jun 24 18:09 .\n",
      "drwx------ 18 studio-lab-user nogroup 4.0K Jun 23 22:07 ..\n",
      "-rw-r--r--  1 studio-lab-user users   245M Jun 23 17:10 20220623-1600-gleif-goldencopy-lei.csv.gz\n"
     ]
    }
   ],
   "source": [
    "# Yup it's there!\n",
    "!ls -lah ~/scratch/"
   ]
  },
  {
   "cell_type": "code",
   "execution_count": 6,
   "id": "7c81c17e-82f6-4c74-b243-bbcace0f26db",
   "metadata": {},
   "outputs": [],
   "source": [
    "# We can unzip it in place... assuming we have space\n",
    "!gunzip ~/scratch/20220623-1600-gleif-goldencopy-lei.csv.gz"
   ]
  },
  {
   "cell_type": "code",
   "execution_count": 7,
   "id": "bc17f86c-996c-4830-a607-438408ffbef9",
   "metadata": {},
   "outputs": [
    {
     "name": "stdout",
     "output_type": "stream",
     "text": [
      "total 1.5G\n",
      "drwxr-xr-x  2 studio-lab-user users     52 Jun 24 18:09 .\n",
      "drwx------ 18 studio-lab-user nogroup 4.0K Jun 23 22:07 ..\n",
      "-rw-r--r--  1 studio-lab-user users   1.5G Jun 23 17:10 20220623-1600-gleif-goldencopy-lei.csv\n"
     ]
    }
   ],
   "source": [
    "# How big is the uncompressed data?\n",
    "!ls -lah ~/scratch/"
   ]
  },
  {
   "cell_type": "code",
   "execution_count": 8,
   "id": "d63a74e3-1fc8-48cb-8575-7ed266b1ff76",
   "metadata": {},
   "outputs": [
    {
     "name": "stdout",
     "output_type": "stream",
     "text": [
      "Total Objects: 4791\n",
      "   Total Size: 793.3 GiB\n"
     ]
    }
   ],
   "source": [
    "# What if we want to make longitudinal comparisons back to 2018? How big is that?\n",
    "!aws s3 ls s3://gleif/data/csv/lei/ --no-sign-request --recursive --summarize --human-readable | tail -2"
   ]
  },
  {
   "cell_type": "markdown",
   "id": "4448cc31-131f-4a1a-b27e-a92f7ea7a742",
   "metadata": {},
   "source": [
    "Assuming the \\~6.2x compression ratio is the same for all files, downloading and decompressing these data would require >\\~4,900GB of disk space. That's \"only\" 4.7 TiB (a mighty big laptop). But, if you had a 1TiB drive, managed disk space very carefully, left the data compressed, then processed the data very efficiently, decompressing and summarizing a bit of data at a time... 🤕\n",
    "\n",
    "Also, to download over e.g. a 100Mb/s home broadband connection is ~6,492,979 seconds or 75 days (checking my math... 792.6GiB * 8bits * 1024Mib / 60sec / 60min / 24hr = ~75)\n",
    "\n",
    "Looking at a larger dataset like [Sentinel 2](https://registry.opendata.aws/sentinel-2/), which is currently ~9.5PiB of satellite imagery. Not a fair comparison. However, the index of Sentinel 2 is tabular and helps us illustrate some concepts (currently ~40TiB for two formats, CSV and Apache ORC)."
   ]
  },
  {
   "cell_type": "code",
   "execution_count": 9,
   "id": "074efd94-3676-4dd3-90c2-951a247f271c",
   "metadata": {},
   "outputs": [
    {
     "name": "stdout",
     "output_type": "stream",
     "text": [
      "2022-06-24 15:17:55    0 Bytes sentinel-s2-l2a/sentinel-s2-l2a-inventory/data/\n",
      "2020-01-11 19:08:36    1.1 MiB sentinel-s2-l2a/sentinel-s2-l2a-inventory/data/00000e73-8529-46a6-867c-8101ca771acb.csv.gz\n",
      "2019-10-03 20:28:44    2.3 MiB sentinel-s2-l2a/sentinel-s2-l2a-inventory/data/00001686-23f5-4523-ae1d-16defdf0ce73.csv.gz\n",
      "2019-09-11 20:53:48    2.4 MiB sentinel-s2-l2a/sentinel-s2-l2a-inventory/data/0000234a-6ae7-402a-aa88-31f73a940edd.csv.gz\n",
      "2021-09-27 16:15:53   16.8 MiB sentinel-s2-l2a/sentinel-s2-l2a-inventory/data/00002854-2cc4-4b2a-91b8-0a2efa634bd9.csv.gz\n",
      "2021-09-06 20:10:34    5.9 MiB sentinel-s2-l2a/sentinel-s2-l2a-inventory/data/000035b6-d2ec-4f98-b093-af464e6e6acf.csv.gz\n",
      "2021-11-06 19:06:11    6.2 MiB sentinel-s2-l2a/sentinel-s2-l2a-inventory/data/000046e5-1ed0-4753-b8ef-17ea7fbdaad2.csv.gz\n",
      "2020-03-13 20:18:46    2.2 MiB sentinel-s2-l2a/sentinel-s2-l2a-inventory/data/00004886-aa32-45da-82f6-a3f100ea6b01.csv.gz\n",
      "2021-05-05 15:57:42    6.0 MiB sentinel-s2-l2a/sentinel-s2-l2a-inventory/data/00004d72-ce12-4c11-a985-a66cd1c1b84b.csv.gz\n",
      "2019-03-19 19:13:43    2.4 MiB sentinel-s2-l2a/sentinel-s2-l2a-inventory/data/00005812-6c1b-44c5-89d7-2370785d4026.csv.gz\n",
      "\n",
      "[Errno 32] Broken pipe\n"
     ]
    }
   ],
   "source": [
    "# Note that the index has too many objects to list in their entirety by conventional means in this session\n",
    "!aws s3 ls s3://sentinel-inventory/sentinel-s2-l2a/sentinel-s2-l2a-inventory/data/ \\\n",
    "    --no-sign-request --recursive --human-readable \\\n",
    "    |head -n10"
   ]
  },
  {
   "cell_type": "code",
   "execution_count": 10,
   "id": "a3a09724-c36d-4d96-bc7d-49b7df432ff5",
   "metadata": {},
   "outputs": [
    {
     "name": "stdout",
     "output_type": "stream",
     "text": [
      "\"sentinel-s2-l2a\",\"tiles/22/M/BT/2019/3/15/0/qi/SENSOR_QUALITY.xml\",\"3107\",\"2019-03-16T08:19:07.000Z\"\n",
      "\"sentinel-s2-l2a\",\"tiles/22/M/BT/2019/3/15/0/qi/SNW_20m.jp2\",\"24261\",\"2019-03-16T08:19:07.000Z\"\n",
      "\"sentinel-s2-l2a\",\"tiles/22/M/BT/2019/3/15/0/qi/SNW_60m.jp2\",\"13364\",\"2019-03-16T08:19:07.000Z\"\n",
      "\"sentinel-s2-l2a\",\"tiles/22/M/BT/2019/3/15/0/tileInfo.json\",\"54291\",\"2019-03-16T08:19:07.000Z\"\n",
      "\"sentinel-s2-l2a\",\"tiles/22/M/BT/2019/3/18/0/R10m/AOT.jp2\",\"523315\",\"2019-03-19T00:36:52.000Z\"\n",
      "\"sentinel-s2-l2a\",\"tiles/22/M/BT/2019/3/18/0/R10m/B02.jp2\",\"59050644\",\"2019-03-19T00:36:52.000Z\"\n",
      "\"sentinel-s2-l2a\",\"tiles/22/M/BT/2019/3/18/0/R10m/B03.jp2\",\"59105745\",\"2019-03-19T00:36:52.000Z\"\n",
      "\"sentinel-s2-l2a\",\"tiles/22/M/BT/2019/3/18/0/R10m/B04.jp2\",\"57238747\",\"2019-03-19T00:36:52.000Z\"\n",
      "\"sentinel-s2-l2a\",\"tiles/22/M/BT/2019/3/18/0/R10m/B08.jp2\",\"62807437\",\"2019-03-19T00:36:52.000Z\"\n",
      "\"sentinel-s2-l2a\",\"tiles/22/M/BT/2019/3/18/0/R10m/TCI.jp2\",\"50550877\",\"2019-03-19T00:36:52.000Z\"\n",
      "\n",
      "gzip: stdout: Broken pipe\n",
      "download failed: s3://sentinel-inventory/sentinel-s2-l2a/sentinel-s2-l2a-inventory/data/00005812-6c1b-44c5-89d7-2370785d4026.csv.gz to - [Errno 32] Broken pipe\n"
     ]
    }
   ],
   "source": [
    "# Let's take a quick look at one of those; note output is pipeable!\n",
    "!aws s3 --no-sign-request cp s3://sentinel-inventory/sentinel-s2-l2a/sentinel-s2-l2a-inventory/data/00005812-6c1b-44c5-89d7-2370785d4026.csv.gz - \\\n",
    "    | gunzip - | head -n10"
   ]
  },
  {
   "cell_type": "markdown",
   "id": "8fe4c88b-7353-4097-bf53-e3df3640bb54",
   "metadata": {},
   "source": [
    "# Athena - SQL analysis for large tabular data in S3\n",
    "\n",
    "What is Athena? Athena is a distributed, serverless database engine. High reward to effort and cost.\n",
    "\n",
    "Athena needs three things: data, schema, (often) index of partitions.\n",
    "\n",
    "Data are stored as objects in S3 in [a variety of formats](https://docs.aws.amazon.com/athena/latest/ug/supported-serdes.html) (CSV, other delimited text, NDJSON, Parquet, ORC, etc). Objects are mapped to a relational schema via Data Definition Language (DDL). Partitions are represented as dimensions (columns) in the schema, and are either enumerated in AWS Glue catalog (or external Hive metastore), or inferred via Athena Partition Projection. Note Partition Projection is Athena-only, and doesn't apply to e.g. Glue.\n",
    "\n",
    "CSV\n",
    "\n",
    "```sql\n",
    "CREATE EXTERNAL TABLE `sentinel_s1_l1c_inventory_csv`(\n",
    "  `bucket` string COMMENT 'from deserializer', \n",
    "  `key` string COMMENT 'from deserializer', \n",
    "  `size` string COMMENT 'from deserializer', \n",
    "  `last_modified_date` string COMMENT 'from deserializer')\n",
    "PARTITIONED BY ( \n",
    "  `dt` string)\n",
    "ROW FORMAT SERDE \n",
    "  'org.apache.hadoop.hive.serde2.OpenCSVSerde' \n",
    "STORED AS INPUTFORMAT \n",
    "  'org.apache.hadoop.hive.ql.io.SymlinkTextInputFormat' \n",
    "OUTPUTFORMAT \n",
    "  'org.apache.hadoop.hive.ql.io.HiveIgnoreKeyTextOutputFormat'\n",
    "LOCATION\n",
    "  's3://sentinel-inventory/sentinel-s1-l1c/sentinel-s1-l1c-inventory/hive'\n",
    "```\n",
    "\n",
    "ORC\n",
    "\n",
    "```sql\n",
    "CREATE EXTERNAL TABLE `sentinel_s1_l1c_inventory_orc`(\n",
    "  `bucket` string, \n",
    "  `key` string, \n",
    "  `size` bigint, \n",
    "  `last_modified_date` timestamp)\n",
    "PARTITIONED BY ( \n",
    "  `dt` string)\n",
    "ROW FORMAT SERDE \n",
    "  'org.apache.hadoop.hive.ql.io.orc.OrcSerde' \n",
    "STORED AS INPUTFORMAT \n",
    "  'org.apache.hadoop.hive.ql.io.SymlinkTextInputFormat' \n",
    "OUTPUTFORMAT \n",
    "  'org.apache.hadoop.hive.ql.io.HiveIgnoreKeyTextOutputFormat'\n",
    "LOCATION\n",
    "  's3://sentinel-inventory/orc/sentinel-s1-l1c/sentinel-s1-l1c-inventory-orc/hive'\n",
    "```\n",
    "\n",
    "Note: If following along, you will need to select \"load partitions\" from table menu.\n",
    "\n",
    "\n",
    "### Query performance ORC vs. CSV\n",
    "Why is the inventory available in two formats?\n",
    "\n",
    "ORC\n",
    "```sql\n",
    "SELECT AVG(SIZE) FROM sentinel_s1_l1c_inventory_orc\n",
    "```\n",
    "(Run time: 3 min 22.992 sec / Data scanned: 77.73 GB)\n",
    "\n",
    "vs. CSV\n",
    "\n",
    "```sql\n",
    "SELECT AVG(SIZE) FROM sentinel_s1_l1c_inventory_csv\n",
    "```\n",
    "(Run time: 15 min 32.688 sec / Data scanned: 356.02 GB)"
   ]
  },
  {
   "cell_type": "markdown",
   "id": "6a2d87e0-8464-4631-9d21-c7e5a890be6e",
   "metadata": {},
   "source": [
    "# Assembling a dataset yourself\n",
    "\n",
    "1. If you have the data, and they are small enough, upload to your S3 bucket via aws cli or other tools previously mentioned. (Our onboarding [Onboarding Handbook for Data Providers](https://assets.opendata.aws/aws-onboarding-handbook-for-data-providers-en-US.pdf) has some helpful advice about bucket layout and cli performance tuning.)\n",
    "\n",
    "2. If you don't already have the data, but will be downloading and assembling from other sources, skip downloading to your laptop and download with AWS services directly to S3 (SMSL, CloudShell, EC2, etc). AWS probably has faster internet access than you, and definitely has faster network access to S3! There is also a good chance whoever you're downloading from is either on AWS or someone \n",
    "\n",
    "3. First pass optimizations: unarchive data (tar.gz, zip), pre-sort objects into useful prefixes using [Hive conventions](https://docs.aws.amazon.com/athena/latest/ug/partitions.html), if you can choose output format choose Parquet/ORC or JSON over CSV, compress individual objects (parquet.gz, csv.gz, ndjson.gz).\n",
    "\n",
    "4. Second pass optimizations: Optimize the [partition structure of your data](https://docs.aws.amazon.com/athena/latest/ug/partitions.html) and convert to Parquet or ORC if you weren't able to initially. Tip: You can use Athena to reshuffle partitions and convert to optimized formats like Parquet and ORC using [\"Create Table AS\" queries](https://docs.aws.amazon.com/athena/latest/ug/ctas.html)\n",
    "\n",
    "5. Email me if you're stuck! I can't promise in-depth help on every problem, but I am happy to give pointers, recommendations, and even code samples on slow news days."
   ]
  },
  {
   "cell_type": "markdown",
   "id": "fd97e59e-2767-4d32-9a34-fd7292502aed",
   "metadata": {},
   "source": [
    "# Support from AWS Open Data\n",
    "\n",
    "- [Cover cost of hosting datasets](https://aws.amazon.com/opendata/open-data-sponsorship-program/) that you wish to share (reproducible research!)\n",
    "- Technical guidance around building datasets\n",
    "- Credits to pay for computing used to assemble open datasets\n",
    "- Opportunities and assistance showcasing your data skills around open data"
   ]
  },
  {
   "cell_type": "markdown",
   "id": "f13c7712-e62b-4ef0-9ee3-d03881ca4074",
   "metadata": {
    "jp-MarkdownHeadingCollapsed": true,
    "tags": []
   },
   "source": [
    "# Thank you! Contacts / links one last time\n",
    " - Peter Schmiedeskamp - Statistical & Regulatory Lead (pws AT amazon), AWS Open Data\n",
    " - AWS Open Data (opendata AT amazon / https://opendata.aws)\n",
    " - Registry of Open Data (https://registry.opendata.aws)"
   ]
  }
 ],
 "metadata": {
  "kernelspec": {
   "display_name": "default:Python",
   "language": "python",
   "name": "conda-env-default-py"
  },
  "language_info": {
   "codemirror_mode": {
    "name": "ipython",
    "version": 3
   },
   "file_extension": ".py",
   "mimetype": "text/x-python",
   "name": "python",
   "nbconvert_exporter": "python",
   "pygments_lexer": "ipython3",
   "version": "3.9.10"
  }
 },
 "nbformat": 4,
 "nbformat_minor": 5
}
